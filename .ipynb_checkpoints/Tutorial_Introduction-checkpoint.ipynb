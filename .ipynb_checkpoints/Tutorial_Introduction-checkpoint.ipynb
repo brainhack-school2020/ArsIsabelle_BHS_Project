{
 "cells": [
  {
   "cell_type": "markdown",
   "metadata": {},
   "source": [
    "# Intorduction to the Tutorial\n",
    "\n",
    "\n",
    "# I. Exploring the Jupyter Notebook & the Git Repository of this Project\n",
    "\n",
    "\n",
    "## 1) Congratulations on Opening This Notebook!\n",
    "\n",
    "As this notebook aims to target novice users, acessing this notebook and installing all the required components must have already been a challenge! Here is a bit of precision on the tools that we will use through this tutorial. \n",
    "\n",
    "    a) What the notebook will allow you to do: Make a copy and take you own notes!\n",
    "    b) How to use this notebook\n",
    "    c) What NOT to do with this notebook: Running commands OUT OF ORDER"
   ]
  },
  {
   "cell_type": "markdown",
   "metadata": {},
   "source": [
    "### Make sure you installed the required software and the virtual environment\n",
    "\n",
    "You should see 'Matlab' indicated in the right superior corner of this notebook."
   ]
  },
  {
   "cell_type": "markdown",
   "metadata": {},
   "source": [
    "## a) What This Notebook Allows You To Do: \n",
    "## Make a Copy, Run MATLAB Commands, and Take your OWN Notes!\n",
    "\n",
    "Make sure you made a clone of the git hub repository, so you can have your own copy of this notebook on your local machine (computer). This is useful because you can take notes directly on the notebook (without disturbing the original document) and save it on your local machine.\n",
    "\n",
    "See installation instructions in the readme.md and the Setup.txt file for more information\n",
    "\n",
    "This video can also help you on these procedures:\n",
    "https://www.youtube.com/watch?v=FsMZ40jL4uQ\n",
    "\n"
   ]
  },
  {
   "cell_type": "markdown",
   "metadata": {},
   "source": [
    " ## b) How To Use This Notebook\n",
    " \n",
    "This notebook has two types of cells: code cells (blue frame) and markdown cells (green frame). \n",
    "Those with 'Input[ ]' (or 'Entrée [ ]' in French) writen in blue on the left side of the cell are \"code cells\", you can run commands and codes as if you were in MATLAB. \n",
    "\n",
    "To do so, make sure your cursor is in the cell that you want to run and __press the keys 'shift + Enter'__. \n",
    "\n",
    "Try with the examples `disp('Hello from MATLAB')` below"
   ]
  },
  {
   "cell_type": "code",
   "execution_count": 7,
   "metadata": {
    "scrolled": true
   },
   "outputs": [
    {
     "name": "stdout",
     "output_type": "stream",
     "text": [
      "Hello from MATLAB\n"
     ]
    }
   ],
   "source": [
    "disp('Hello from MATLAB')"
   ]
  },
  {
   "cell_type": "markdown",
   "metadata": {},
   "source": [
    "If you have an error message, verify these [installations steps](https://am111.readthedocs.io/en/latest/jmatlab_install.html) and try running the cell bellow. You the issue is resolved, should have \"I am currently running from MATLAB on your local computer\" as an output."
   ]
  },
  {
   "cell_type": "code",
   "execution_count": 8,
   "metadata": {},
   "outputs": [
    {
     "name": "stdout",
     "output_type": "stream",
     "text": [
      "I am currently running from MATLAB on your local computer\n"
     ]
    }
   ],
   "source": [
    "disp('I am currently running from MATLAB on your local computer')"
   ]
  },
  {
   "cell_type": "markdown",
   "metadata": {},
   "source": [
    "#### Cell Modes\n",
    "\n",
    "The other type of cell that you might want to use is the Markdown cells. You can write texte in them, such as notes, in [Markdown format](https://guides.github.com/features/mastering-markdown/) \n",
    "\n",
    "You can change the type of cell to Markdown, by pressing the key 'm' when your cursor is on the left side of the frame of the cell (where 'Input [ ]' of code cells appear). You can also do it with roll-down menu at the top of this notebook. "
   ]
  },
  {
   "cell_type": "markdown",
   "metadata": {},
   "source": [
    "#### Generation New Cells & Switching Modes \n",
    "\n",
    "To generate a new cell below an existing cell, pressing \"b\" when your cursor is on the Input/left frame.\n",
    "To generate a new cell above an existing cell, pressing \"a\" when your cursor is on the Input/left frame.\n",
    "\n",
    "Try to generate a new cell below"
   ]
  },
  {
   "cell_type": "code",
   "execution_count": null,
   "metadata": {},
   "outputs": [],
   "source": []
  },
  {
   "cell_type": "markdown",
   "metadata": {},
   "source": [
    "By default, new cells appear in code format. Try changing the cell you generated to a Markdown cell. \n",
    "To change the cell to the code mode, press the key 'c' when your cursor is on the left side of the frame (where 'Input [ ]' of code cells appear)."
   ]
  },
  {
   "cell_type": "code",
   "execution_count": 9,
   "metadata": {},
   "outputs": [],
   "source": [
    "% You can also make comment in code cell as you would do in matlab scripts! "
   ]
  },
  {
   "cell_type": "markdown",
   "metadata": {},
   "source": [
    "Here are a few shortcuts to become more comfortable when [using jupyter notebook](https://am111.readthedocs.io/en/latest/jmatlab_use.html)"
   ]
  },
  {
   "cell_type": "markdown",
   "metadata": {},
   "source": [
    "### Saving Your Work\n",
    "\n",
    "Do not forget to save your work frequently by pressing 'cmd + s' (Mac) or 'ctrl + s' (Windows) or with the file menu."
   ]
  },
  {
   "cell_type": "markdown",
   "metadata": {},
   "source": [
    "## c) What NOT to do with this notebook: Running commands OUT OF ORDER\n",
    "\n",
    "One thing that you must make sure to do when ever you use a jupyter notebook (this format of document), is to run the cells in the same order as they are presented. This is super important for code cells, or your codes and scripts might not work. \n",
    "\n",
    "So, __DO NOT RUN CODE CELLS OUT OF ORDER!!!__"
   ]
  },
  {
   "cell_type": "markdown",
   "metadata": {},
   "source": [
    "Now, let's explore the content of the GitHub Repository associated with this notebook!"
   ]
  },
  {
   "cell_type": "markdown",
   "metadata": {},
   "source": [
    "## 2) This GitHub Repository \n",
    "    a) Requirements.txt\n",
    "    b) Setup.txt\n",
    "    c) README.md\n",
    "    d) License\n",
    "    e) Classifiers folder (contains the MATLAB scripts and functions)\n",
    "    f) Procedures Workflow\n",
    "    g) Tutorial_Instructions.ipynb\n",
    "    g) Matlab_HMM_Scripts_Notebook.ipynb"
   ]
  },
  {
   "cell_type": "markdown",
   "metadata": {},
   "source": [
    "### Details on This GitHub Repository Components\n",
    "\n",
    "If this is your first time with Git and Jupyter Notebooks, Git Hub repositories allow us to archive packages of scripts, notebook (such as this one), data, and documentation in order to share codes openly and collaborate.\n",
    "\n",
    "The repository associated with this notebook contains many files and folders (listed above) that are structured to work together. You are most likely already familiar with the requirements and setup files as you had to read them to get to this notebook. They are simply text files with instructions to install the software ([Requirements.txt](https://github.com/brainhack-school2020/ArsIsabelle_BHS_Project/blob/master/Requirements.txt)), and setup the tools ([Setup.md](https://github.com/brainhack-school2020/ArsIsabelle_BHS_Project/blob/master/Setup.md)) in order to use the notebook and documentation of this tutorial.     \n",
    "\n",
    "The [README.md file](https://github.com/brainhack-school2020/ArsIsabelle_BHS_Project/blob/master/README.md) explains the project, how this tutorial was created, and provides you background on FFR research. Note that '.md' is a format of text file in which you can integrate multiple elements (images, url, etc.) using a [specific synthax](https://guides.github.com/features/mastering-markdown/). As you may have alrady noticed, cells in Markdown mode in jupyter notebook (such as this one) uses the same syntax!  \n",
    "\n",
    "The folder named ['FFRclassifiers'](https://github.com/brainhack-school2020/ArsIsabelle_BHS_Project/tree/master/FFRclassifiers)  contains the machine-learning classifiers scripts and functions. You can run them directly in matlab (by downloading the folder on your local computer) or in the jupyter notebook [Matlab_HMM_Scripts_Notebook.ipynb](https://github.com/brainhack-school2020/ArsIsabelle_BHS_Project/Matlab_HMM_Scripts_Notebook.ipynb).\n",
    "\n",
    "Tutorial_Instructions.ipynb is this notebook and aim to make you more comfortable with jupyter notebook and git repository, Matlab_HMM_Scripts_Notebook.ipynb it the Machine-Learning Tutorial, Procedures Workflow contain information to run the stand-alone scripts directly in MATLAB, is the open source for the following ML scripts. \n",
    "\n",
    "Feel free to contribute to this documentation via pull requests on Git Hub!"
   ]
  },
  {
   "cell_type": "code",
   "execution_count": null,
   "metadata": {},
   "outputs": [],
   "source": []
  },
  {
   "cell_type": "markdown",
   "metadata": {},
   "source": [
    "## 3) Get the Data\n",
    "    a) BIDS-EEG Format\n",
    "    b) Data from Coffey et al., 2017  \n",
    "    c) Download the data from OSF.oi (check Open Science DOI)\n",
    "    d) Use your own data set "
   ]
  },
  {
   "cell_type": "code",
   "execution_count": null,
   "metadata": {},
   "outputs": [],
   "source": []
  },
  {
   "cell_type": "markdown",
   "metadata": {},
   "source": [
    "# Your are now ready to use the HMM Tutorial MATLAB Notebook! :D "
   ]
  }
 ],
 "metadata": {
  "kernelspec": {
   "display_name": "Matlab",
   "language": "matlab",
   "name": "matlab"
  },
  "language_info": {
   "codemirror_mode": "octave",
   "file_extension": ".m",
   "help_links": [
    {
     "text": "MetaKernel Magics",
     "url": "https://metakernel.readthedocs.io/en/latest/source/README.html"
    }
   ],
   "mimetype": "text/x-octave",
   "name": "matlab",
   "version": "0.16.9"
  }
 },
 "nbformat": 4,
 "nbformat_minor": 4
}
