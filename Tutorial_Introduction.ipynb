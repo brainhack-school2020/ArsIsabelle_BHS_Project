{
 "cells": [
  {
   "cell_type": "markdown",
   "metadata": {},
   "source": [
    "# Introduction to the ML Tutorial\n",
    "\n",
    "\n",
    "# I. Exploring the Jupyter Notebooks & Git Hub Repository of this Project\n",
    "\n",
    "\n",
    "## Congratulations on Opening This Notebook!\n",
    "\n",
    "As the notebook tutorials aims to target novice users, acessing this notebook and installing all the required components might have already been a challenge! Here is a bit of precision on the tools that we will use through this tutorial. \n",
    "\n",
    "The first section aims to make you more confortable with jupyter notebooks as learning environment. \n",
    "\n",
    "    1) Jupiter Notebooks\n",
    "        a) What Jupyter Notebooks Allow You To Do\n",
    "        b) How To Use Notebooks\n",
    "        c) What NOT to Do With Notebooks\n",
    "\n",
    "The second section can be read more diagonally, but is a good reference if you are not comfortable with the git terminologiy and provide you detailed information on the content of each component of the ArsIsabelle_BHS_Project. \n",
    "\n",
    "    2) The GitHub Repository ArsIsabelle_BHS_Project     \n",
    "        a) Repository Content\n",
    "        b) What is a Github Repository\n",
    "        c) Details on ArsIsabelle_BHS_Project Content"
   ]
  },
  {
   "cell_type": "markdown",
   "metadata": {},
   "source": [
    "### _Make sure you installed the required software and the virtual environment for MATLAB_\n",
    "\n",
    "You should see 'Matlab' indicated in the right superior corner of this notebook.\n",
    "\n",
    "If not, make sure to go through the steps described in the files [Requirements.txt](https://github.com/brainhack-school2020/ArsIsabelle_BHS_Project/blob/master/Requirements.txt)), and setup ([Setup.md](https://github.com/brainhack-school2020/ArsIsabelle_BHS_Project/blob/master/Setup.md)) on this Git repository: https://github.com/brainhack-school2020/ArsIsabelle_BHS_Project"
   ]
  },
  {
   "cell_type": "markdown",
   "metadata": {},
   "source": [
    "## a) What Jupyter Notebooks (like this one) Allow You To Do: \n",
    "## Make a Copy on Which You Can Run MATLAB Commands, and Take your OWN Notes!\n",
    "\n",
    "Make a clone (a copy, see info below) of the git hub repository https://github.com/brainhack-school2020/ArsIsabelle_BHS_Project on your local computer, so you can have your own copy of this notebook and the notebook [Matlab_HMM_Scripts_Notebook.ipynb](https://github.com/brainhack-school2020/ArsIsabelle_BHS_Project/Matlab_HMM_Scripts_Notebook.ipynb) on your local machine (aka your computer). This is useful because, once you [open these notebooks from your local computer](, you can take notes directly on the notebook (without disturbing the original document), run the commands, and save everything on your local machine.\n",
    "\n",
    "#### Make a Copy of This Git Repository\n",
    "\n",
    "[This video](https://www.youtube.com/watch?v=FsMZ40jL4uQ) can help you on the cloning procedures:\n",
    "https://www.youtube.com/watch?v=FsMZ40jL4uQ\n",
    "\n",
    "#### To Start the jupyter notebook of this repository: \n",
    "\n",
    "* Open your terminal (Press the keys 'cmd + space' or 'ctrl + space', write 'Terminal', press 'enter'\n",
    "* Go to the directory: `cd path/to/local_directory_that_contains_notebooks`\n",
    "\n",
    "_If this command does not work, make sure to enter the FULL path to your folder 'ArsIsabelle_BHS_Project' \n",
    "Or navigate manually to this directory with the `cd`command_.\n",
    "\n",
    "* Confirm that you are in ArsIsabelle_BHS_Project: `pwd`\n",
    "\n",
    "_The terminal should output a path finishing with ArsIsabelle_BHS_Project (e.g. Users/Isabelle/Desktop/ArsIsabelle_BHS_Project )\n",
    "\n",
    "* Confirm that the Notebooks are in ArsIsabelle_BHS_Project: `ls`\n",
    "_Your terminal should output the several files and folders, check for:_\n",
    "    - __Tutorial_Introduction.ipynb__\n",
    "    - __Matlab_HMM_Scripts_Notebook.ipynb__\n",
    "\n",
    "* Start __this notebook__ with command: `jupyter notebook Tutorial_Introduction.ipynb`\n",
    "\n",
    "_A web page with this jupyter notebook should open in your web browser_\n",
    "![Tutorial Introduction](/images/Tutorial_Introduction.png)\n",
    "\n",
    "* To quit the notebook, go to your terminal windowL\n",
    "- Press the keys 'ctrl + c'\n",
    "- Enter `y` when asked 'Shutdown this notebook server (y/[n])?'\n",
    "\n",
    "* Start the __Machine-Learning Notebook__ with command: `jupyter notebook Matlab_HMM_Scripts_Notebook.ipynb`\n",
    "\n",
    "![Machine-Learning Tutorial](/images/ML_Notebook.png)\n",
    "\n",
    "Also check installation instructions in the readme.md and the [Setup.md](https://github.com/brainhack-school2020/ArsIsabelle_BHS_Project/blob/master/Setup.md) file for more information."
   ]
  },
  {
   "cell_type": "markdown",
   "metadata": {},
   "source": [
    " ## b) How To Use This Notebook\n",
    " \n",
    "This notebook has two types of cells: code cells (blue frame) and markdown cells (green frame). \n",
    "Those with 'Input[ ]' (or 'Entrée [ ]' in French) writen in blue on the left side of the cell are \"code cells\", you can run commands and codes as if you were in MATLAB. \n",
    "\n",
    "To do so, make sure your cursor is in the cell that you want to run and __press the keys 'shift + Enter'__. \n",
    "\n",
    "Try with the examples `disp('Hello from MATLAB')` below"
   ]
  },
  {
   "cell_type": "code",
   "execution_count": 7,
   "metadata": {
    "scrolled": true
   },
   "outputs": [
    {
     "name": "stdout",
     "output_type": "stream",
     "text": [
      "Hello from MATLAB\n"
     ]
    }
   ],
   "source": [
    "disp('Hello from MATLAB')"
   ]
  },
  {
   "cell_type": "markdown",
   "metadata": {},
   "source": [
    "If you have an error message, verify these [installations steps](https://am111.readthedocs.io/en/latest/jmatlab_install.html) and try running the cell bellow. If the issue is resolved, should have \"I am currently running from MATLAB on your local computer\" as an output."
   ]
  },
  {
   "cell_type": "code",
   "execution_count": 8,
   "metadata": {},
   "outputs": [
    {
     "name": "stdout",
     "output_type": "stream",
     "text": [
      "I am currently running from MATLAB on your local computer\n"
     ]
    }
   ],
   "source": [
    "disp('I am currently running from MATLAB on your local computer')"
   ]
  },
  {
   "cell_type": "markdown",
   "metadata": {},
   "source": [
    "#### Cell Modes\n",
    "\n",
    "The other type of cell that you might want to use is the Markdown cells. You can write texte in them, such as notes, in [Markdown format](https://guides.github.com/features/mastering-markdown/) \n",
    "\n",
    "You can change the type of cell to Markdown, by pressing the key 'm' when your cursor is on the left side of the frame of the cell (where 'Input [ ]' of code cells appear). You can also do it with roll-down menu at the top of this notebook. "
   ]
  },
  {
   "cell_type": "markdown",
   "metadata": {},
   "source": [
    "#### Generation New Cells & Switching Modes \n",
    "\n",
    "To generate a new cell below an existing cell, pressing \"b\" when your cursor is on the Input/left frame.\n",
    "To generate a new cell above an existing cell, pressing \"a\" when your cursor is on the Input/left frame.\n",
    "\n",
    "Try to generate a new cell below"
   ]
  },
  {
   "cell_type": "code",
   "execution_count": null,
   "metadata": {},
   "outputs": [],
   "source": []
  },
  {
   "cell_type": "markdown",
   "metadata": {},
   "source": [
    "By default, new cells appear in code format. Try changing the cell you generated to a Markdown cell. \n",
    "To change the cell to the code mode, press the key 'c' when your cursor is on the left side of the frame (where 'Input [ ]' of code cells appear)."
   ]
  },
  {
   "cell_type": "code",
   "execution_count": 9,
   "metadata": {},
   "outputs": [],
   "source": [
    "% You can also make comment in code cell as you would do in matlab scripts! "
   ]
  },
  {
   "cell_type": "markdown",
   "metadata": {},
   "source": [
    "Here are a few shortcuts to become more comfortable when [using jupyter notebook](https://am111.readthedocs.io/en/latest/jmatlab_use.html)"
   ]
  },
  {
   "cell_type": "markdown",
   "metadata": {},
   "source": [
    "### Saving Your Work\n",
    "\n",
    "Do not forget to save your work frequently by pressing 'cmd + s' (Mac) or 'ctrl + s' (Windows) or with the file menu."
   ]
  },
  {
   "cell_type": "markdown",
   "metadata": {},
   "source": [
    "## c) What NOT to do with this notebook: Running commands OUT OF ORDER\n",
    "\n",
    "One thing that you must make sure to do when ever you use a jupyter notebook (this format of document), is to run the cells in the same order as they are presented. This is super important for code cells, or your codes and scripts might not work. \n",
    "\n",
    "So, __DO NOT RUN CODE CELLS OUT OF ORDER!!!__"
   ]
  },
  {
   "cell_type": "markdown",
   "metadata": {},
   "source": [
    "Now, let's explore the content of the GitHub Repository associated with this notebook..."
   ]
  },
  {
   "cell_type": "markdown",
   "metadata": {},
   "source": [
    "## 2) The GitHub Repository \"ArsIsabelle_BHS_Project\" \n",
    " \n",
    "### a) Repository Content\n",
    " \n",
    " * Requirements.txt\n",
    " * Setup.txt\n",
    " * README.md\n",
    " * License\n",
    " * FFRClassifiers (folder that contains the MATLAB scripts and functions)\n",
    " * Procedures_Workflow.md\n",
    " * Tutorial_Instructions.ipynb\n",
    " * Matlab_HMM_Scripts_Notebook.ipynb\n",
    " * OSF_Archive"
   ]
  },
  {
   "cell_type": "markdown",
   "metadata": {},
   "source": [
    "### b) What is a Git Hub Repository?\n",
    "\n",
    "If this is your first time with Git and Git Hub, with the jupyter notebook and everything, it is ok to be confused with the terminology! Git Hub repositories allow us to archive codes, to packages scripts, associated files, notebooks (such as this one), data, and the documentation so others can reproduce and improve our work. It is simply a plateform that allow to share software and collaborate. It is very widely spread, so many other platforms and software have integrations for it. For reminder of how to use Git Hub, check [this guide](http://rogerdudler.github.io/git-guide/) developped by Roger Dudler. "
   ]
  },
  {
   "cell_type": "markdown",
   "metadata": {},
   "source": [
    "### c) Details on ArsIsabelle_BHS_Project Content\n",
    "\n",
    "#### Requirements & Setup\n",
    "The repository associated with this notebook contains many files and folders (see list above) that are structured to work together. You are most likely already familiar with the __Requirements.txt__ and __Setup.md__ files as you had to read them to get to this notebook. They are simply text files with instructions: [Requirements.txt](https://github.com/brainhack-school2020/ArsIsabelle_BHS_Project/blob/master/Requirements.txt) for software to install on your computer and [Setup.md](https://github.com/brainhack-school2020/ArsIsabelle_BHS_Project/blob/master/Setup.md) to set these tools to use the notebooks of this tutorial.     \n",
    "\n",
    "#### README.md\n",
    "The __[README.md file](https://github.com/brainhack-school2020/ArsIsabelle_BHS_Project/blob/master/README.md)__ explains the project, how this tutorial was created, and provides background on FFR research. Note that '.md' stands for 'Markdown, which is a format of text file in which you can integrate multiple components (images, url, etc.) by using [specific synthax](https://guides.github.com/features/mastering-markdown/). As you may have alrady noticed, cells in Markdown mode in jupyter notebooks (such as this one) use this syntax as well!  \n",
    "\n",
    "#### FFRclassifiers Folder\n",
    "The folder named __['FFRclassifiers'](https://github.com/brainhack-school2020/ArsIsabelle_BHS_Project/tree/master/FFRclassifiers)__ contains the machine-learning MATLAB scripts and functions. You can run them directly in MATLAB (by downloading the folder 'FFRCLassifiers' on your local computer) or within the jupyter notebook [Matlab_HMM_Scripts_Notebook.ipynb](https://github.com/brainhack-school2020/ArsIsabelle_BHS_Project/Matlab_HMM_Scripts_Notebook.ipynb). You may notice that this folder contains more than one classifiers. Under the BHS Project, I focused on the HMM, but the structure of the classifiers was developped such that the HMM, the SVM and the x-correlation can all use the same input folder for the data. There is also two versions of the HMM. The integration of the second HMM, SVM, X-Correlation and SLTM classifiers will continue after the BHS project. \n",
    "\n",
    "#### Workflow Document\n",
    "__Procedures_Workflow.md__ is a summary of the Classifiers Workflow. It contains information to run the stand-alone scripts directly in MATLAB. It is short and sweet, and simply get the job done. It is currently a .md file but a pdf version will also be made available.\n",
    "\n",
    "#### MATLAB Jupyter Notebooks\n",
    "\n",
    "__Tutorial_Instructions.ipynb__ is simply this notebook! It aims to make you more comfortable with jupyter notebooks and the Git Repositories so you can better enjoy your experience with the Hidden Markov Model (HMM) Tutorial. \n",
    "\n",
    "_(Note that both noteboooks in ArsIsabelle_BHS_Project run in MATLAB; you might have noticed the extra installation steps for the virtual environment). Jupyter notebook are actually much more common with python, and run majoritarily commands in this language. As notebook can be great learning tools, we though it was worth to try with MATLAB.)_    \n",
    "\n",
    "__Matlab_HMM_Scripts_Notebook.ipynb__ is the piece the resistance! It is the main machine-learning notebook and, under the scope of the BHS project, focus on the Hidden Markov Model as a classifier.\n",
    " \n",
    "#### License \n",
    "__License__ is the open source MIT License for the Tutorial and ML scripts. \n",
    "\n",
    "#### Data and Data Archiving\n",
    "The __Data__ used in the HMM tutorial has been already integrated in the classifiers structure (In the FFRs and Input1 folders). This was possible because each EEG-FFR data file was below the 100 MB limit autorized by Git Hub. This data was generously provided by Emily Coffey and Robert Zatorre from McGill University. As behavioral data (and fMRI) data is also associated with this data collection, it will grow in size. Thus, the dataset was loaded on the __Open Science Framework__ which is linked to the Git repository ArsIsabelle_BHS_Project. However, as our project with this data is not completed yet, the OSF entry is currently set on private mode. At the moment, you may access the OSF page in read-only mode, for your convenience, [here](https://osf.io/c2b3t/?view_only=d1b30d4e0e7c4d53a8ec80d4d87b33d2). Once ready, we aim to share the data and the extended machine-learning tutorials with the scientific community.  \n",
    "\n",
    "_(If you are curious about linking a Git Hub repository with OSF, check [this Tutorial](https://vickysteeves.gitlab.io/GitHub-OSF-OpenResearch/#/14) prepared by Vicky Stevens from NYU)_\n",
    "\n",
    "##### Note on Using the HMM With Other Dataset:\n",
    "Feel free to use your own dataset with this tutorial. Information on the FFR-EEG format can be found in README.md. file. If you go with this route, make sure to also adjust the setup.m file as the number of trials and other features of the data are customized for this specific dataset in this script.  \n",
    "\n",
    "\n",
    "#### Other Components and Additions\n",
    "As this project is quite extended, it will continue to expend (e.g. integration of BIDS-format, other classifiers, tutorials to adjust parameters, adding more fun images, etc). An FFR project from the Zatorre Lab and collaborators will use it. Thus, Components not listed here might be added. Feel free to contribute to our tutorials and to the related documentation via pull requests on Git Hub!\n",
    "\n",
    "Voila!"
   ]
  },
  {
   "cell_type": "markdown",
   "metadata": {},
   "source": [
    "# Your Can Now Dive into the HMM Tutorial MATLAB Notebook! \n",
    "\n",
    "![JOY!](/images/joy.jpg)"
   ]
  }
 ],
 "metadata": {
  "kernelspec": {
   "display_name": "Matlab",
   "language": "matlab",
   "name": "matlab"
  },
  "language_info": {
   "codemirror_mode": "octave",
   "file_extension": ".m",
   "help_links": [
    {
     "text": "MetaKernel Magics",
     "url": "https://metakernel.readthedocs.io/en/latest/source/README.html"
    }
   ],
   "mimetype": "text/x-octave",
   "name": "matlab",
   "version": "0.16.9"
  }
 },
 "nbformat": 4,
 "nbformat_minor": 4
}
