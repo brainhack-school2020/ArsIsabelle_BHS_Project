{
 "cells": [
  {
   "cell_type": "code",
   "execution_count": 2,
   "metadata": {},
   "outputs": [
    {
     "name": "stdout",
     "output_type": "stream",
     "text": [
      "hello from MATLAB\n"
     ]
    }
   ],
   "source": [
    "disp('hello from MATLAB')"
   ]
  },
  {
   "cell_type": "code",
   "execution_count": 4,
   "metadata": {},
   "outputs": [
    {
     "name": "stdout",
     "output_type": "stream",
     "text": [
      "I am currently runing from isabelle s local computer\n"
     ]
    }
   ],
   "source": [
    "disp('I am currently runing from isabelle s local computer')"
   ]
  },
  {
   "cell_type": "markdown",
   "metadata": {},
   "source": [
    "# Exploring Jupyter Notebooks"
   ]
  },
  {
   "cell_type": "markdown",
   "metadata": {},
   "source": [
    "# Outline of Tutorial\n",
    "\n",
    "## 1) Congratulations on Opening This Notebook!\n",
    "\n",
    "Beginner approach\n",
    "\n",
    "    a) What this notebook will allow you to do: Make a copy and take you own notes!\n",
    "    b) What NOT to do with this notebook: Running commands OUT OF ORDER\n",
    "    c) How to use this notebook\n",
    "    d) Text Editor to coopy your function and run them in Matlab or VS Code\n",
    "    \n",
    "## 2) This GitHub Repository \n",
    "    a) Requirements\n",
    "    b) Set-up\n",
    "    c) ReadME.md\n",
    "    d) License\n",
    "    e) Pdf to copy past and run directly in MATLAB locally \n",
    "\n",
    "## 3) Goal Workflow Description of a Hidden Markov Model Classifiers\n",
    "    a) What is the theory behind this\n",
    "    b) Sequential problems\n",
    "    \n",
    "\n",
    "## 4) GitKraken and how to use it in relation with this Notebook\n",
    "    a) Control Version\n",
    "    b) Build the different script versions \n",
    "    c) Be collaborative! :) \n",
    "\n",
    "\n",
    "## 5) Get the Data\n",
    "    a) BIDS-EEG Format\n",
    "    b) Use sample data from Coffey et al., 2017 on OSF.oi (check Open Science DOI)\n",
    "    c) Use your own data set \n",
    "    \n",
    "## 6) Classifier Folder\n",
    "    a) Setup.m\n",
    "    b) ExploreInput.m \n",
    "    c) CreateInputDatabase.m\n",
    "    d) main.m\n",
    "    e) main.m Functions\n",
    "    f) Results directory\n",
    "    g) Logprob directory\n",
    "    h) figures directory\n",
    "        "
   ]
  },
  {
   "cell_type": "code",
   "execution_count": 1,
   "metadata": {},
   "outputs": [
    {
     "name": "stdout",
     "output_type": "stream",
     "text": [
      "Starting parallel pool (parpool) using the 'local' profile ...\n",
      "Warning: The system time zone setting, 'US/Eastern', does not specify a single time zone unambiguously. It will be treated as 'America/New_York'. See the <a href=\"matlab:doc('datetime.TimeZone')\">datetime.TimeZone property</a> for details about specifying time zones.\n",
      "> In verifyTimeZone (line 23)\n",
      "  In datetime (line 515)\n",
      "  In parallel.internal.cluster.DefaultProperties.getNewJobPropStruct (line 16)\n",
      "  In parallel.internal.cluster.CJSSupport/buildJob (line 158)\n",
      "  In parallel.cluster.CJSCluster/buildCommunicatingJob (line 465)\n",
      "  In parallel.Cluster/createCommunicatingJob (line 92)\n",
      "  In parallel.internal.pool.InteractiveClient>iCreateCommunicatingJob (line 715)\n",
      "  In parallel.internal.pool.InteractiveClient/start (line 325)\n",
      "  In parallel.Pool>iStartClient (line 593)\n",
      "  In parallel.Pool.hBuildPool (line 472)\n",
      "  In parallel.internal.pool.doParpool (line 18)\n",
      "  In parpool (line 89)\n",
      "connected to 2 workers.\n"
     ]
    },
    {
     "name": "stderr",
     "output_type": "stream",
     "text": [
      "\u001b[0;31mError using eval\n",
      "Undefined function or variable 'setup'.\n",
      "\n",
      "\u001b[0m"
     ]
    }
   ],
   "source": [
    "% Basics\n",
    "\n",
    "    close all;\n",
    "    clear all; \n",
    "\n",
    "    p = gcp('nocreate');\n",
    "    if isempty(p)\n",
    "    parpool(2);                                                               \n",
    "    end\n",
    "    \n",
    "    delete('results/*.mat')\n",
    "\n",
    "    rng('shuffle');                                                            \n",
    "    params = setup; \n",
    "    \n",
    "    totsizes = [50 100 200 500 1000 1500 2000 2300];\n",
    "    avesizes = round(totsizes/4);\n",
    "    \n",
    "% Main\n",
    "\n",
    "    for k=1:length(totsizes)\n",
    "        \n",
    "        tic\n",
    "        \n",
    "        params.totsize = totsizes(k);\n",
    "        params.avesize = avesizes(k);\n",
    "      \n",
    "        subList = dir([params.ddir,'*.mat']);                                \n",
    "\n",
    "        for i=1:length(subList)  \n",
    "\n",
    "            % load subject ffrs\n",
    "\n",
    "            sub = subList(i).name;\n",
    "            load([params.ddir,sub]); \n",
    "            clsList = intersect(cls,cls);\n",
    "\n",
    "            % train/test kfolds\n",
    "\n",
    "            input = struct('ffrs',ffrs,'cls',cls);\n",
    "            parfor j=1:length(clsList) \n",
    "            clsid = clsList(j);\n",
    "            [trainfolds{j},testfolds{j}] = create_kfolds(input,clsid,params);\n",
    "            end\n",
    "\n",
    "            % move-average train folds\n",
    "\n",
    "            parfor j=1:length(clsList)        \n",
    "            trainfolds{j} = moving_average(trainfolds{j},params);           \n",
    "            end\n",
    "\n",
    "            % f0s\n",
    "\n",
    "             for j=1:length(clsList)                                              \n",
    "             trainfolds{j} = ffr2f0(trainfolds{j},params);                               \n",
    "             testfolds{j} = ffr2f0(testfolds{j},params);                               \n",
    "             end\n",
    "\n",
    "            % rearrange kfolds\n",
    "\n",
    "            [trainfolds,testfolds] = rearrange_kfolds(trainfolds,testfolds);\n",
    "\n",
    "            % cross-validation\n",
    "\n",
    "            pcls = [];\n",
    "            rcls = [];\n",
    "            plogps = [];\n",
    "\n",
    "            for j=1:length(testfolds)\n",
    "\n",
    "                trainfold = trainfolds{j};\n",
    "                testfold = testfolds{j};\n",
    "                [right pred logp] = hmm_modeling(trainfold,testfold,params);\n",
    "                rcls = [rcls;right];\n",
    "                pcls = [pcls;pred];\n",
    "                plogps = [plogps;logp];\n",
    "\n",
    "            end\n",
    "            \n",
    "            cm = confusionmat(rcls,pcls);\n",
    "            sub\n",
    "            cm = 100*cm/mean(sum(cm,1))\n",
    "\n",
    "            % save results, clear vars, toc\n",
    "\n",
    "            outname = [params.rdir,'sub',sub(1:end-4),'_nst',num2str(params.nst),...\n",
    "            '_size',num2str(params.totsize),...\n",
    "            '_ave',num2str(params.avesize)];   \n",
    "            save(outname,'pcls','rcls','plogps');        \n",
    "            clear trainfolds testfolds\n",
    "\n",
    "        end\n",
    "        \n",
    "        toc\n",
    "    \n",
    "    end\n",
    "\n"
   ]
  },
  {
   "cell_type": "markdown",
   "metadata": {},
   "source": [
    "## Classifier Decoding Acuracy\n",
    "\n",
    "## Figures\n"
   ]
  },
  {
   "cell_type": "markdown",
   "metadata": {},
   "source": [
    "Now it is your turn to work try to run things"
   ]
  },
  {
   "cell_type": "code",
   "execution_count": null,
   "metadata": {},
   "outputs": [],
   "source": []
  }
 ],
 "metadata": {
  "kernelspec": {
   "display_name": "Matlab",
   "language": "matlab",
   "name": "matlab"
  },
  "language_info": {
   "codemirror_mode": "octave",
   "file_extension": ".m",
   "help_links": [
    {
     "text": "MetaKernel Magics",
     "url": "https://metakernel.readthedocs.io/en/latest/source/README.html"
    }
   ],
   "mimetype": "text/x-octave",
   "name": "matlab",
   "version": "0.16.9"
  }
 },
 "nbformat": 4,
 "nbformat_minor": 4
}
